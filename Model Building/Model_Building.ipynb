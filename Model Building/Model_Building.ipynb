{
 "cells": [
  {
   "cell_type": "markdown",
   "id": "7d7b870c-da12-4c62-bd5e-aa0244ed68c8",
   "metadata": {},
   "source": [
    "### Step1 Loading and Exploring data"
   ]
  },
  {
   "cell_type": "code",
   "execution_count": 2,
   "id": "33cfa917-2fe6-431d-a8b3-bcaaed65f62c",
   "metadata": {},
   "outputs": [],
   "source": [
    "import pandas as pd"
   ]
  },
  {
   "cell_type": "code",
   "execution_count": 3,
   "id": "5560de51-18f8-4dec-8fb0-a27dfdd7d4ba",
   "metadata": {},
   "outputs": [],
   "source": [
    "data = pd.read_csv('temperature_data.csv')"
   ]
  },
  {
   "cell_type": "code",
   "execution_count": 4,
   "id": "ffd38c66-75a2-4238-9266-d1959e934d0c",
   "metadata": {},
   "outputs": [
    {
     "data": {
      "text/html": [
       "<div>\n",
       "<style scoped>\n",
       "    .dataframe tbody tr th:only-of-type {\n",
       "        vertical-align: middle;\n",
       "    }\n",
       "\n",
       "    .dataframe tbody tr th {\n",
       "        vertical-align: top;\n",
       "    }\n",
       "\n",
       "    .dataframe thead th {\n",
       "        text-align: right;\n",
       "    }\n",
       "</style>\n",
       "<table border=\"1\" class=\"dataframe\">\n",
       "  <thead>\n",
       "    <tr style=\"text-align: right;\">\n",
       "      <th></th>\n",
       "      <th>ambient</th>\n",
       "      <th>coolant</th>\n",
       "      <th>u_d</th>\n",
       "      <th>u_q</th>\n",
       "      <th>motor_speed</th>\n",
       "      <th>torque</th>\n",
       "      <th>i_d</th>\n",
       "      <th>i_q</th>\n",
       "      <th>pm</th>\n",
       "      <th>stator_yoke</th>\n",
       "      <th>stator_tooth</th>\n",
       "      <th>stator_winding</th>\n",
       "      <th>profile_id</th>\n",
       "    </tr>\n",
       "  </thead>\n",
       "  <tbody>\n",
       "    <tr>\n",
       "      <th>0</th>\n",
       "      <td>-0.752143</td>\n",
       "      <td>-1.118446</td>\n",
       "      <td>0.327935</td>\n",
       "      <td>-1.297858</td>\n",
       "      <td>-1.222428</td>\n",
       "      <td>-0.250182</td>\n",
       "      <td>1.029572</td>\n",
       "      <td>-0.245860</td>\n",
       "      <td>-2.522071</td>\n",
       "      <td>-1.831422</td>\n",
       "      <td>-2.066143</td>\n",
       "      <td>-2.018033</td>\n",
       "      <td>4</td>\n",
       "    </tr>\n",
       "    <tr>\n",
       "      <th>1</th>\n",
       "      <td>-0.771263</td>\n",
       "      <td>-1.117021</td>\n",
       "      <td>0.329665</td>\n",
       "      <td>-1.297686</td>\n",
       "      <td>-1.222429</td>\n",
       "      <td>-0.249133</td>\n",
       "      <td>1.029509</td>\n",
       "      <td>-0.245832</td>\n",
       "      <td>-2.522418</td>\n",
       "      <td>-1.830969</td>\n",
       "      <td>-2.064859</td>\n",
       "      <td>-2.017631</td>\n",
       "      <td>4</td>\n",
       "    </tr>\n",
       "    <tr>\n",
       "      <th>2</th>\n",
       "      <td>-0.782892</td>\n",
       "      <td>-1.116681</td>\n",
       "      <td>0.332771</td>\n",
       "      <td>-1.301822</td>\n",
       "      <td>-1.222428</td>\n",
       "      <td>-0.249431</td>\n",
       "      <td>1.029448</td>\n",
       "      <td>-0.245818</td>\n",
       "      <td>-2.522673</td>\n",
       "      <td>-1.830400</td>\n",
       "      <td>-2.064073</td>\n",
       "      <td>-2.017343</td>\n",
       "      <td>4</td>\n",
       "    </tr>\n",
       "    <tr>\n",
       "      <th>3</th>\n",
       "      <td>-0.780935</td>\n",
       "      <td>-1.116764</td>\n",
       "      <td>0.333700</td>\n",
       "      <td>-1.301852</td>\n",
       "      <td>-1.222430</td>\n",
       "      <td>-0.248636</td>\n",
       "      <td>1.032845</td>\n",
       "      <td>-0.246955</td>\n",
       "      <td>-2.521639</td>\n",
       "      <td>-1.830333</td>\n",
       "      <td>-2.063137</td>\n",
       "      <td>-2.017632</td>\n",
       "      <td>4</td>\n",
       "    </tr>\n",
       "    <tr>\n",
       "      <th>4</th>\n",
       "      <td>-0.774043</td>\n",
       "      <td>-1.116775</td>\n",
       "      <td>0.335206</td>\n",
       "      <td>-1.303118</td>\n",
       "      <td>-1.222429</td>\n",
       "      <td>-0.248701</td>\n",
       "      <td>1.031807</td>\n",
       "      <td>-0.246610</td>\n",
       "      <td>-2.521900</td>\n",
       "      <td>-1.830498</td>\n",
       "      <td>-2.062795</td>\n",
       "      <td>-2.018145</td>\n",
       "      <td>4</td>\n",
       "    </tr>\n",
       "  </tbody>\n",
       "</table>\n",
       "</div>"
      ],
      "text/plain": [
       "    ambient   coolant       u_d       u_q  motor_speed    torque       i_d  \\\n",
       "0 -0.752143 -1.118446  0.327935 -1.297858    -1.222428 -0.250182  1.029572   \n",
       "1 -0.771263 -1.117021  0.329665 -1.297686    -1.222429 -0.249133  1.029509   \n",
       "2 -0.782892 -1.116681  0.332771 -1.301822    -1.222428 -0.249431  1.029448   \n",
       "3 -0.780935 -1.116764  0.333700 -1.301852    -1.222430 -0.248636  1.032845   \n",
       "4 -0.774043 -1.116775  0.335206 -1.303118    -1.222429 -0.248701  1.031807   \n",
       "\n",
       "        i_q        pm  stator_yoke  stator_tooth  stator_winding  profile_id  \n",
       "0 -0.245860 -2.522071    -1.831422     -2.066143       -2.018033           4  \n",
       "1 -0.245832 -2.522418    -1.830969     -2.064859       -2.017631           4  \n",
       "2 -0.245818 -2.522673    -1.830400     -2.064073       -2.017343           4  \n",
       "3 -0.246955 -2.521639    -1.830333     -2.063137       -2.017632           4  \n",
       "4 -0.246610 -2.521900    -1.830498     -2.062795       -2.018145           4  "
      ]
     },
     "execution_count": 4,
     "metadata": {},
     "output_type": "execute_result"
    }
   ],
   "source": [
    "data.head()"
   ]
  },
  {
   "cell_type": "code",
   "execution_count": 5,
   "id": "eeaf37aa-15bf-41ae-9830-b2f903714fe2",
   "metadata": {},
   "outputs": [
    {
     "data": {
      "text/html": [
       "<div>\n",
       "<style scoped>\n",
       "    .dataframe tbody tr th:only-of-type {\n",
       "        vertical-align: middle;\n",
       "    }\n",
       "\n",
       "    .dataframe tbody tr th {\n",
       "        vertical-align: top;\n",
       "    }\n",
       "\n",
       "    .dataframe thead th {\n",
       "        text-align: right;\n",
       "    }\n",
       "</style>\n",
       "<table border=\"1\" class=\"dataframe\">\n",
       "  <thead>\n",
       "    <tr style=\"text-align: right;\">\n",
       "      <th></th>\n",
       "      <th>ambient</th>\n",
       "      <th>coolant</th>\n",
       "      <th>u_d</th>\n",
       "      <th>u_q</th>\n",
       "      <th>motor_speed</th>\n",
       "      <th>torque</th>\n",
       "      <th>i_d</th>\n",
       "      <th>i_q</th>\n",
       "      <th>pm</th>\n",
       "      <th>stator_yoke</th>\n",
       "      <th>stator_tooth</th>\n",
       "      <th>stator_winding</th>\n",
       "      <th>profile_id</th>\n",
       "    </tr>\n",
       "  </thead>\n",
       "  <tbody>\n",
       "    <tr>\n",
       "      <th>998065</th>\n",
       "      <td>-0.047497</td>\n",
       "      <td>0.341638</td>\n",
       "      <td>0.331475</td>\n",
       "      <td>-1.246114</td>\n",
       "      <td>-1.222428</td>\n",
       "      <td>-0.25564</td>\n",
       "      <td>1.029142</td>\n",
       "      <td>-0.245723</td>\n",
       "      <td>0.429853</td>\n",
       "      <td>1.018568</td>\n",
       "      <td>0.836084</td>\n",
       "      <td>0.494725</td>\n",
       "      <td>72</td>\n",
       "    </tr>\n",
       "    <tr>\n",
       "      <th>998066</th>\n",
       "      <td>-0.048839</td>\n",
       "      <td>0.320022</td>\n",
       "      <td>0.331701</td>\n",
       "      <td>-1.250655</td>\n",
       "      <td>-1.222437</td>\n",
       "      <td>-0.25564</td>\n",
       "      <td>1.029148</td>\n",
       "      <td>-0.245736</td>\n",
       "      <td>0.429751</td>\n",
       "      <td>1.013416</td>\n",
       "      <td>0.834438</td>\n",
       "      <td>0.494279</td>\n",
       "      <td>72</td>\n",
       "    </tr>\n",
       "    <tr>\n",
       "      <th>998067</th>\n",
       "      <td>-0.042350</td>\n",
       "      <td>0.307415</td>\n",
       "      <td>0.330946</td>\n",
       "      <td>-1.246852</td>\n",
       "      <td>-1.222430</td>\n",
       "      <td>-0.25564</td>\n",
       "      <td>1.029191</td>\n",
       "      <td>-0.245701</td>\n",
       "      <td>0.429439</td>\n",
       "      <td>1.002906</td>\n",
       "      <td>0.833936</td>\n",
       "      <td>0.492666</td>\n",
       "      <td>72</td>\n",
       "    </tr>\n",
       "    <tr>\n",
       "      <th>998068</th>\n",
       "      <td>-0.039433</td>\n",
       "      <td>0.302082</td>\n",
       "      <td>0.330987</td>\n",
       "      <td>-1.249505</td>\n",
       "      <td>-1.222432</td>\n",
       "      <td>-0.25564</td>\n",
       "      <td>1.029147</td>\n",
       "      <td>-0.245727</td>\n",
       "      <td>0.429558</td>\n",
       "      <td>0.999157</td>\n",
       "      <td>0.830504</td>\n",
       "      <td>0.490581</td>\n",
       "      <td>72</td>\n",
       "    </tr>\n",
       "    <tr>\n",
       "      <th>998069</th>\n",
       "      <td>-0.043803</td>\n",
       "      <td>0.312666</td>\n",
       "      <td>0.330830</td>\n",
       "      <td>-1.246590</td>\n",
       "      <td>-1.222431</td>\n",
       "      <td>-0.25564</td>\n",
       "      <td>1.029141</td>\n",
       "      <td>-0.245722</td>\n",
       "      <td>0.429166</td>\n",
       "      <td>0.987163</td>\n",
       "      <td>0.828046</td>\n",
       "      <td>0.489382</td>\n",
       "      <td>72</td>\n",
       "    </tr>\n",
       "  </tbody>\n",
       "</table>\n",
       "</div>"
      ],
      "text/plain": [
       "         ambient   coolant       u_d       u_q  motor_speed   torque  \\\n",
       "998065 -0.047497  0.341638  0.331475 -1.246114    -1.222428 -0.25564   \n",
       "998066 -0.048839  0.320022  0.331701 -1.250655    -1.222437 -0.25564   \n",
       "998067 -0.042350  0.307415  0.330946 -1.246852    -1.222430 -0.25564   \n",
       "998068 -0.039433  0.302082  0.330987 -1.249505    -1.222432 -0.25564   \n",
       "998069 -0.043803  0.312666  0.330830 -1.246590    -1.222431 -0.25564   \n",
       "\n",
       "             i_d       i_q        pm  stator_yoke  stator_tooth  \\\n",
       "998065  1.029142 -0.245723  0.429853     1.018568      0.836084   \n",
       "998066  1.029148 -0.245736  0.429751     1.013416      0.834438   \n",
       "998067  1.029191 -0.245701  0.429439     1.002906      0.833936   \n",
       "998068  1.029147 -0.245727  0.429558     0.999157      0.830504   \n",
       "998069  1.029141 -0.245722  0.429166     0.987163      0.828046   \n",
       "\n",
       "        stator_winding  profile_id  \n",
       "998065        0.494725          72  \n",
       "998066        0.494279          72  \n",
       "998067        0.492666          72  \n",
       "998068        0.490581          72  \n",
       "998069        0.489382          72  "
      ]
     },
     "execution_count": 5,
     "metadata": {},
     "output_type": "execute_result"
    }
   ],
   "source": [
    "data.tail()"
   ]
  },
  {
   "cell_type": "code",
   "execution_count": 28,
   "id": "eb62ba02-0ce1-4c7d-825a-3bdac3479039",
   "metadata": {},
   "outputs": [
    {
     "name": "stdout",
     "output_type": "stream",
     "text": [
      "<class 'pandas.core.frame.DataFrame'>\n",
      "RangeIndex: 998070 entries, 0 to 998069\n",
      "Data columns (total 13 columns):\n",
      " #   Column          Non-Null Count   Dtype  \n",
      "---  ------          --------------   -----  \n",
      " 0   ambient         998070 non-null  float64\n",
      " 1   coolant         998070 non-null  float64\n",
      " 2   u_d             998070 non-null  float64\n",
      " 3   u_q             998070 non-null  float64\n",
      " 4   motor_speed     998070 non-null  float64\n",
      " 5   torque          998070 non-null  float64\n",
      " 6   i_d             998070 non-null  float64\n",
      " 7   i_q             998070 non-null  float64\n",
      " 8   pm              998070 non-null  float64\n",
      " 9   stator_yoke     998070 non-null  float64\n",
      " 10  stator_tooth    998070 non-null  float64\n",
      " 11  stator_winding  998070 non-null  float64\n",
      " 12  profile_id      998070 non-null  int64  \n",
      "dtypes: float64(12), int64(1)\n",
      "memory usage: 99.0 MB\n"
     ]
    }
   ],
   "source": [
    "data.info()"
   ]
  },
  {
   "cell_type": "code",
   "execution_count": 7,
   "id": "cf96ed93-fc96-4b8a-bd8c-ddc7d56c35d6",
   "metadata": {},
   "outputs": [
    {
     "data": {
      "text/plain": [
       "ambient           0\n",
       "coolant           0\n",
       "u_d               0\n",
       "u_q               0\n",
       "motor_speed       0\n",
       "torque            0\n",
       "i_d               0\n",
       "i_q               0\n",
       "pm                0\n",
       "stator_yoke       0\n",
       "stator_tooth      0\n",
       "stator_winding    0\n",
       "profile_id        0\n",
       "dtype: int64"
      ]
     },
     "execution_count": 7,
     "metadata": {},
     "output_type": "execute_result"
    }
   ],
   "source": [
    "data.isnull().sum()"
   ]
  },
  {
   "cell_type": "code",
   "execution_count": 8,
   "id": "f5658331-7965-42a4-a16c-e4a2f67a09ad",
   "metadata": {},
   "outputs": [
    {
     "data": {
      "text/html": [
       "<div>\n",
       "<style scoped>\n",
       "    .dataframe tbody tr th:only-of-type {\n",
       "        vertical-align: middle;\n",
       "    }\n",
       "\n",
       "    .dataframe tbody tr th {\n",
       "        vertical-align: top;\n",
       "    }\n",
       "\n",
       "    .dataframe thead th {\n",
       "        text-align: right;\n",
       "    }\n",
       "</style>\n",
       "<table border=\"1\" class=\"dataframe\">\n",
       "  <thead>\n",
       "    <tr style=\"text-align: right;\">\n",
       "      <th></th>\n",
       "      <th>ambient</th>\n",
       "      <th>coolant</th>\n",
       "      <th>u_d</th>\n",
       "      <th>u_q</th>\n",
       "      <th>motor_speed</th>\n",
       "      <th>torque</th>\n",
       "      <th>i_d</th>\n",
       "      <th>i_q</th>\n",
       "      <th>pm</th>\n",
       "      <th>stator_yoke</th>\n",
       "      <th>stator_tooth</th>\n",
       "      <th>stator_winding</th>\n",
       "      <th>profile_id</th>\n",
       "    </tr>\n",
       "  </thead>\n",
       "  <tbody>\n",
       "    <tr>\n",
       "      <th>count</th>\n",
       "      <td>998070.000000</td>\n",
       "      <td>998070.000000</td>\n",
       "      <td>998070.000000</td>\n",
       "      <td>998070.000000</td>\n",
       "      <td>998070.000000</td>\n",
       "      <td>998070.000000</td>\n",
       "      <td>998070.000000</td>\n",
       "      <td>998070.000000</td>\n",
       "      <td>998070.000000</td>\n",
       "      <td>998070.000000</td>\n",
       "      <td>998070.000000</td>\n",
       "      <td>998070.000000</td>\n",
       "      <td>998070.000000</td>\n",
       "    </tr>\n",
       "    <tr>\n",
       "      <th>mean</th>\n",
       "      <td>-0.003905</td>\n",
       "      <td>0.004723</td>\n",
       "      <td>0.004780</td>\n",
       "      <td>-0.005690</td>\n",
       "      <td>-0.006336</td>\n",
       "      <td>-0.003333</td>\n",
       "      <td>0.006043</td>\n",
       "      <td>-0.003194</td>\n",
       "      <td>-0.004396</td>\n",
       "      <td>0.000609</td>\n",
       "      <td>-0.002208</td>\n",
       "      <td>-0.003935</td>\n",
       "      <td>50.732001</td>\n",
       "    </tr>\n",
       "    <tr>\n",
       "      <th>std</th>\n",
       "      <td>0.993127</td>\n",
       "      <td>1.002423</td>\n",
       "      <td>0.997878</td>\n",
       "      <td>1.002330</td>\n",
       "      <td>1.001229</td>\n",
       "      <td>0.997907</td>\n",
       "      <td>0.998994</td>\n",
       "      <td>0.997912</td>\n",
       "      <td>0.995686</td>\n",
       "      <td>1.001049</td>\n",
       "      <td>0.999597</td>\n",
       "      <td>0.998343</td>\n",
       "      <td>22.073125</td>\n",
       "    </tr>\n",
       "    <tr>\n",
       "      <th>min</th>\n",
       "      <td>-8.573954</td>\n",
       "      <td>-1.429349</td>\n",
       "      <td>-1.655373</td>\n",
       "      <td>-1.861463</td>\n",
       "      <td>-1.371529</td>\n",
       "      <td>-3.345953</td>\n",
       "      <td>-3.245874</td>\n",
       "      <td>-3.341639</td>\n",
       "      <td>-2.631991</td>\n",
       "      <td>-1.834688</td>\n",
       "      <td>-2.066143</td>\n",
       "      <td>-2.019973</td>\n",
       "      <td>4.000000</td>\n",
       "    </tr>\n",
       "    <tr>\n",
       "      <th>25%</th>\n",
       "      <td>-0.599385</td>\n",
       "      <td>-1.037925</td>\n",
       "      <td>-0.826359</td>\n",
       "      <td>-0.927390</td>\n",
       "      <td>-0.951892</td>\n",
       "      <td>-0.266917</td>\n",
       "      <td>-0.756296</td>\n",
       "      <td>-0.257269</td>\n",
       "      <td>-0.672308</td>\n",
       "      <td>-0.747265</td>\n",
       "      <td>-0.761951</td>\n",
       "      <td>-0.725622</td>\n",
       "      <td>32.000000</td>\n",
       "    </tr>\n",
       "    <tr>\n",
       "      <th>50%</th>\n",
       "      <td>0.266157</td>\n",
       "      <td>-0.177187</td>\n",
       "      <td>0.267542</td>\n",
       "      <td>-0.099818</td>\n",
       "      <td>-0.140246</td>\n",
       "      <td>-0.187246</td>\n",
       "      <td>0.213935</td>\n",
       "      <td>-0.190076</td>\n",
       "      <td>0.094367</td>\n",
       "      <td>-0.057226</td>\n",
       "      <td>0.005085</td>\n",
       "      <td>0.006536</td>\n",
       "      <td>56.000000</td>\n",
       "    </tr>\n",
       "    <tr>\n",
       "      <th>75%</th>\n",
       "      <td>0.686675</td>\n",
       "      <td>0.650709</td>\n",
       "      <td>0.358491</td>\n",
       "      <td>0.852625</td>\n",
       "      <td>0.853584</td>\n",
       "      <td>0.547171</td>\n",
       "      <td>1.013975</td>\n",
       "      <td>0.499260</td>\n",
       "      <td>0.680691</td>\n",
       "      <td>0.697344</td>\n",
       "      <td>0.772239</td>\n",
       "      <td>0.725660</td>\n",
       "      <td>68.000000</td>\n",
       "    </tr>\n",
       "    <tr>\n",
       "      <th>max</th>\n",
       "      <td>2.967117</td>\n",
       "      <td>2.649032</td>\n",
       "      <td>2.274734</td>\n",
       "      <td>1.793498</td>\n",
       "      <td>2.024164</td>\n",
       "      <td>3.016971</td>\n",
       "      <td>1.060937</td>\n",
       "      <td>2.914185</td>\n",
       "      <td>2.917456</td>\n",
       "      <td>2.449158</td>\n",
       "      <td>2.326668</td>\n",
       "      <td>2.653781</td>\n",
       "      <td>81.000000</td>\n",
       "    </tr>\n",
       "  </tbody>\n",
       "</table>\n",
       "</div>"
      ],
      "text/plain": [
       "             ambient        coolant            u_d            u_q  \\\n",
       "count  998070.000000  998070.000000  998070.000000  998070.000000   \n",
       "mean       -0.003905       0.004723       0.004780      -0.005690   \n",
       "std         0.993127       1.002423       0.997878       1.002330   \n",
       "min        -8.573954      -1.429349      -1.655373      -1.861463   \n",
       "25%        -0.599385      -1.037925      -0.826359      -0.927390   \n",
       "50%         0.266157      -0.177187       0.267542      -0.099818   \n",
       "75%         0.686675       0.650709       0.358491       0.852625   \n",
       "max         2.967117       2.649032       2.274734       1.793498   \n",
       "\n",
       "         motor_speed         torque            i_d            i_q  \\\n",
       "count  998070.000000  998070.000000  998070.000000  998070.000000   \n",
       "mean       -0.006336      -0.003333       0.006043      -0.003194   \n",
       "std         1.001229       0.997907       0.998994       0.997912   \n",
       "min        -1.371529      -3.345953      -3.245874      -3.341639   \n",
       "25%        -0.951892      -0.266917      -0.756296      -0.257269   \n",
       "50%        -0.140246      -0.187246       0.213935      -0.190076   \n",
       "75%         0.853584       0.547171       1.013975       0.499260   \n",
       "max         2.024164       3.016971       1.060937       2.914185   \n",
       "\n",
       "                  pm    stator_yoke   stator_tooth  stator_winding  \\\n",
       "count  998070.000000  998070.000000  998070.000000   998070.000000   \n",
       "mean       -0.004396       0.000609      -0.002208       -0.003935   \n",
       "std         0.995686       1.001049       0.999597        0.998343   \n",
       "min        -2.631991      -1.834688      -2.066143       -2.019973   \n",
       "25%        -0.672308      -0.747265      -0.761951       -0.725622   \n",
       "50%         0.094367      -0.057226       0.005085        0.006536   \n",
       "75%         0.680691       0.697344       0.772239        0.725660   \n",
       "max         2.917456       2.449158       2.326668        2.653781   \n",
       "\n",
       "          profile_id  \n",
       "count  998070.000000  \n",
       "mean       50.732001  \n",
       "std        22.073125  \n",
       "min         4.000000  \n",
       "25%        32.000000  \n",
       "50%        56.000000  \n",
       "75%        68.000000  \n",
       "max        81.000000  "
      ]
     },
     "execution_count": 8,
     "metadata": {},
     "output_type": "execute_result"
    }
   ],
   "source": [
    "data.describe()"
   ]
  },
  {
   "cell_type": "markdown",
   "id": "313a6308-a78d-4b57-bd40-a16cdbfb6c66",
   "metadata": {},
   "source": [
    "### Step 2 Handleing missing values"
   ]
  },
  {
   "cell_type": "code",
   "execution_count": 9,
   "id": "142ee644-9d7a-4ca4-98f7-6fb9f7a2b18c",
   "metadata": {},
   "outputs": [],
   "source": [
    "# No missing values"
   ]
  },
  {
   "cell_type": "markdown",
   "id": "6a9759c8-235e-44de-8ecb-65449d8ba55c",
   "metadata": {},
   "source": [
    "### Step 3 Handeling Duplicates"
   ]
  },
  {
   "cell_type": "code",
   "execution_count": 10,
   "id": "03bf5e2e-24ae-49e3-b01d-d81dd667746c",
   "metadata": {},
   "outputs": [
    {
     "data": {
      "text/plain": [
       "0"
      ]
     },
     "execution_count": 10,
     "metadata": {},
     "output_type": "execute_result"
    }
   ],
   "source": [
    "data.duplicated().sum()"
   ]
  },
  {
   "cell_type": "code",
   "execution_count": 11,
   "id": "2a88ee9f-2376-4f7f-b47f-4649a6fbf935",
   "metadata": {},
   "outputs": [
    {
     "data": {
      "text/plain": [
       "(998070, 13)"
      ]
     },
     "execution_count": 11,
     "metadata": {},
     "output_type": "execute_result"
    }
   ],
   "source": [
    "data.shape"
   ]
  },
  {
   "cell_type": "markdown",
   "id": "a5ef1d80-7788-403a-8f31-d07203afd59f",
   "metadata": {},
   "source": [
    "### Step 4 Feature Selection"
   ]
  },
  {
   "cell_type": "code",
   "execution_count": 12,
   "id": "66ea50b7-f119-44f1-9eb4-9968ea69872a",
   "metadata": {},
   "outputs": [
    {
     "data": {
      "text/plain": [
       "ambient           718720\n",
       "coolant           829538\n",
       "u_d               960969\n",
       "u_q               931072\n",
       "motor_speed       490798\n",
       "torque            695029\n",
       "i_d               661242\n",
       "i_q               655589\n",
       "pm                945166\n",
       "stator_yoke       861836\n",
       "stator_tooth      854787\n",
       "stator_winding    899142\n",
       "profile_id            52\n",
       "dtype: int64"
      ]
     },
     "execution_count": 12,
     "metadata": {},
     "output_type": "execute_result"
    }
   ],
   "source": [
    "data.nunique()"
   ]
  },
  {
   "cell_type": "code",
   "execution_count": 13,
   "id": "11cfb167-0726-464e-9162-d0819e51ecbf",
   "metadata": {},
   "outputs": [
    {
     "data": {
      "text/html": [
       "<div>\n",
       "<style scoped>\n",
       "    .dataframe tbody tr th:only-of-type {\n",
       "        vertical-align: middle;\n",
       "    }\n",
       "\n",
       "    .dataframe tbody tr th {\n",
       "        vertical-align: top;\n",
       "    }\n",
       "\n",
       "    .dataframe thead th {\n",
       "        text-align: right;\n",
       "    }\n",
       "</style>\n",
       "<table border=\"1\" class=\"dataframe\">\n",
       "  <thead>\n",
       "    <tr style=\"text-align: right;\">\n",
       "      <th></th>\n",
       "      <th>ambient</th>\n",
       "      <th>coolant</th>\n",
       "      <th>u_d</th>\n",
       "      <th>u_q</th>\n",
       "      <th>motor_speed</th>\n",
       "      <th>torque</th>\n",
       "      <th>i_d</th>\n",
       "      <th>i_q</th>\n",
       "      <th>pm</th>\n",
       "      <th>stator_yoke</th>\n",
       "      <th>stator_tooth</th>\n",
       "      <th>stator_winding</th>\n",
       "    </tr>\n",
       "  </thead>\n",
       "  <tbody>\n",
       "    <tr>\n",
       "      <th>0</th>\n",
       "      <td>-0.752143</td>\n",
       "      <td>-1.118446</td>\n",
       "      <td>0.327935</td>\n",
       "      <td>-1.297858</td>\n",
       "      <td>-1.222428</td>\n",
       "      <td>-0.250182</td>\n",
       "      <td>1.029572</td>\n",
       "      <td>-0.245860</td>\n",
       "      <td>-2.522071</td>\n",
       "      <td>-1.831422</td>\n",
       "      <td>-2.066143</td>\n",
       "      <td>-2.018033</td>\n",
       "    </tr>\n",
       "    <tr>\n",
       "      <th>1</th>\n",
       "      <td>-0.771263</td>\n",
       "      <td>-1.117021</td>\n",
       "      <td>0.329665</td>\n",
       "      <td>-1.297686</td>\n",
       "      <td>-1.222429</td>\n",
       "      <td>-0.249133</td>\n",
       "      <td>1.029509</td>\n",
       "      <td>-0.245832</td>\n",
       "      <td>-2.522418</td>\n",
       "      <td>-1.830969</td>\n",
       "      <td>-2.064859</td>\n",
       "      <td>-2.017631</td>\n",
       "    </tr>\n",
       "    <tr>\n",
       "      <th>2</th>\n",
       "      <td>-0.782892</td>\n",
       "      <td>-1.116681</td>\n",
       "      <td>0.332771</td>\n",
       "      <td>-1.301822</td>\n",
       "      <td>-1.222428</td>\n",
       "      <td>-0.249431</td>\n",
       "      <td>1.029448</td>\n",
       "      <td>-0.245818</td>\n",
       "      <td>-2.522673</td>\n",
       "      <td>-1.830400</td>\n",
       "      <td>-2.064073</td>\n",
       "      <td>-2.017343</td>\n",
       "    </tr>\n",
       "    <tr>\n",
       "      <th>3</th>\n",
       "      <td>-0.780935</td>\n",
       "      <td>-1.116764</td>\n",
       "      <td>0.333700</td>\n",
       "      <td>-1.301852</td>\n",
       "      <td>-1.222430</td>\n",
       "      <td>-0.248636</td>\n",
       "      <td>1.032845</td>\n",
       "      <td>-0.246955</td>\n",
       "      <td>-2.521639</td>\n",
       "      <td>-1.830333</td>\n",
       "      <td>-2.063137</td>\n",
       "      <td>-2.017632</td>\n",
       "    </tr>\n",
       "    <tr>\n",
       "      <th>4</th>\n",
       "      <td>-0.774043</td>\n",
       "      <td>-1.116775</td>\n",
       "      <td>0.335206</td>\n",
       "      <td>-1.303118</td>\n",
       "      <td>-1.222429</td>\n",
       "      <td>-0.248701</td>\n",
       "      <td>1.031807</td>\n",
       "      <td>-0.246610</td>\n",
       "      <td>-2.521900</td>\n",
       "      <td>-1.830498</td>\n",
       "      <td>-2.062795</td>\n",
       "      <td>-2.018145</td>\n",
       "    </tr>\n",
       "    <tr>\n",
       "      <th>...</th>\n",
       "      <td>...</td>\n",
       "      <td>...</td>\n",
       "      <td>...</td>\n",
       "      <td>...</td>\n",
       "      <td>...</td>\n",
       "      <td>...</td>\n",
       "      <td>...</td>\n",
       "      <td>...</td>\n",
       "      <td>...</td>\n",
       "      <td>...</td>\n",
       "      <td>...</td>\n",
       "      <td>...</td>\n",
       "    </tr>\n",
       "    <tr>\n",
       "      <th>998065</th>\n",
       "      <td>-0.047497</td>\n",
       "      <td>0.341638</td>\n",
       "      <td>0.331475</td>\n",
       "      <td>-1.246114</td>\n",
       "      <td>-1.222428</td>\n",
       "      <td>-0.255640</td>\n",
       "      <td>1.029142</td>\n",
       "      <td>-0.245723</td>\n",
       "      <td>0.429853</td>\n",
       "      <td>1.018568</td>\n",
       "      <td>0.836084</td>\n",
       "      <td>0.494725</td>\n",
       "    </tr>\n",
       "    <tr>\n",
       "      <th>998066</th>\n",
       "      <td>-0.048839</td>\n",
       "      <td>0.320022</td>\n",
       "      <td>0.331701</td>\n",
       "      <td>-1.250655</td>\n",
       "      <td>-1.222437</td>\n",
       "      <td>-0.255640</td>\n",
       "      <td>1.029148</td>\n",
       "      <td>-0.245736</td>\n",
       "      <td>0.429751</td>\n",
       "      <td>1.013416</td>\n",
       "      <td>0.834438</td>\n",
       "      <td>0.494279</td>\n",
       "    </tr>\n",
       "    <tr>\n",
       "      <th>998067</th>\n",
       "      <td>-0.042350</td>\n",
       "      <td>0.307415</td>\n",
       "      <td>0.330946</td>\n",
       "      <td>-1.246852</td>\n",
       "      <td>-1.222430</td>\n",
       "      <td>-0.255640</td>\n",
       "      <td>1.029191</td>\n",
       "      <td>-0.245701</td>\n",
       "      <td>0.429439</td>\n",
       "      <td>1.002906</td>\n",
       "      <td>0.833936</td>\n",
       "      <td>0.492666</td>\n",
       "    </tr>\n",
       "    <tr>\n",
       "      <th>998068</th>\n",
       "      <td>-0.039433</td>\n",
       "      <td>0.302082</td>\n",
       "      <td>0.330987</td>\n",
       "      <td>-1.249505</td>\n",
       "      <td>-1.222432</td>\n",
       "      <td>-0.255640</td>\n",
       "      <td>1.029147</td>\n",
       "      <td>-0.245727</td>\n",
       "      <td>0.429558</td>\n",
       "      <td>0.999157</td>\n",
       "      <td>0.830504</td>\n",
       "      <td>0.490581</td>\n",
       "    </tr>\n",
       "    <tr>\n",
       "      <th>998069</th>\n",
       "      <td>-0.043803</td>\n",
       "      <td>0.312666</td>\n",
       "      <td>0.330830</td>\n",
       "      <td>-1.246590</td>\n",
       "      <td>-1.222431</td>\n",
       "      <td>-0.255640</td>\n",
       "      <td>1.029141</td>\n",
       "      <td>-0.245722</td>\n",
       "      <td>0.429166</td>\n",
       "      <td>0.987163</td>\n",
       "      <td>0.828046</td>\n",
       "      <td>0.489382</td>\n",
       "    </tr>\n",
       "  </tbody>\n",
       "</table>\n",
       "<p>998070 rows × 12 columns</p>\n",
       "</div>"
      ],
      "text/plain": [
       "         ambient   coolant       u_d       u_q  motor_speed    torque  \\\n",
       "0      -0.752143 -1.118446  0.327935 -1.297858    -1.222428 -0.250182   \n",
       "1      -0.771263 -1.117021  0.329665 -1.297686    -1.222429 -0.249133   \n",
       "2      -0.782892 -1.116681  0.332771 -1.301822    -1.222428 -0.249431   \n",
       "3      -0.780935 -1.116764  0.333700 -1.301852    -1.222430 -0.248636   \n",
       "4      -0.774043 -1.116775  0.335206 -1.303118    -1.222429 -0.248701   \n",
       "...          ...       ...       ...       ...          ...       ...   \n",
       "998065 -0.047497  0.341638  0.331475 -1.246114    -1.222428 -0.255640   \n",
       "998066 -0.048839  0.320022  0.331701 -1.250655    -1.222437 -0.255640   \n",
       "998067 -0.042350  0.307415  0.330946 -1.246852    -1.222430 -0.255640   \n",
       "998068 -0.039433  0.302082  0.330987 -1.249505    -1.222432 -0.255640   \n",
       "998069 -0.043803  0.312666  0.330830 -1.246590    -1.222431 -0.255640   \n",
       "\n",
       "             i_d       i_q        pm  stator_yoke  stator_tooth  \\\n",
       "0       1.029572 -0.245860 -2.522071    -1.831422     -2.066143   \n",
       "1       1.029509 -0.245832 -2.522418    -1.830969     -2.064859   \n",
       "2       1.029448 -0.245818 -2.522673    -1.830400     -2.064073   \n",
       "3       1.032845 -0.246955 -2.521639    -1.830333     -2.063137   \n",
       "4       1.031807 -0.246610 -2.521900    -1.830498     -2.062795   \n",
       "...          ...       ...       ...          ...           ...   \n",
       "998065  1.029142 -0.245723  0.429853     1.018568      0.836084   \n",
       "998066  1.029148 -0.245736  0.429751     1.013416      0.834438   \n",
       "998067  1.029191 -0.245701  0.429439     1.002906      0.833936   \n",
       "998068  1.029147 -0.245727  0.429558     0.999157      0.830504   \n",
       "998069  1.029141 -0.245722  0.429166     0.987163      0.828046   \n",
       "\n",
       "        stator_winding  \n",
       "0            -2.018033  \n",
       "1            -2.017631  \n",
       "2            -2.017343  \n",
       "3            -2.017632  \n",
       "4            -2.018145  \n",
       "...                ...  \n",
       "998065        0.494725  \n",
       "998066        0.494279  \n",
       "998067        0.492666  \n",
       "998068        0.490581  \n",
       "998069        0.489382  \n",
       "\n",
       "[998070 rows x 12 columns]"
      ]
     },
     "execution_count": 13,
     "metadata": {},
     "output_type": "execute_result"
    }
   ],
   "source": [
    "data.drop(columns=['profile_id'])"
   ]
  },
  {
   "cell_type": "code",
   "execution_count": 14,
   "id": "74fc2b1c-a295-425e-9b18-fbd4c54ebf1a",
   "metadata": {},
   "outputs": [],
   "source": [
    "X = data.drop(columns=['motor_speed'])"
   ]
  },
  {
   "cell_type": "code",
   "execution_count": 15,
   "id": "9d16e9bc-34d1-4580-895f-89f01de8e6d7",
   "metadata": {},
   "outputs": [],
   "source": [
    "Y = data['motor_speed']"
   ]
  },
  {
   "cell_type": "code",
   "execution_count": 16,
   "id": "3bf1bb2c-bd59-4d00-aec5-8ce4d6dc2fde",
   "metadata": {},
   "outputs": [
    {
     "data": {
      "text/plain": [
       "(998070, 12)"
      ]
     },
     "execution_count": 16,
     "metadata": {},
     "output_type": "execute_result"
    }
   ],
   "source": [
    "X.shape"
   ]
  },
  {
   "cell_type": "code",
   "execution_count": 17,
   "id": "7b31663a-d7f6-4fa5-bcfa-173df7edcffe",
   "metadata": {},
   "outputs": [
    {
     "data": {
      "text/plain": [
       "(998070,)"
      ]
     },
     "execution_count": 17,
     "metadata": {},
     "output_type": "execute_result"
    }
   ],
   "source": [
    "Y.shape"
   ]
  },
  {
   "cell_type": "markdown",
   "id": "7fb20a79-3469-4984-a6bc-dae4d98434fa",
   "metadata": {},
   "source": [
    "### Step 5 Handling Outliers"
   ]
  },
  {
   "cell_type": "code",
   "execution_count": 18,
   "id": "b5a3915a-b2d3-4008-bd40-6f69964347b2",
   "metadata": {},
   "outputs": [],
   "source": [
    "from sklearn.preprocessing import StandardScaler\n",
    "\n",
    "scaler = StandardScaler()\n",
    "X_scaled = scaler.fit_transform(X) \n",
    "X_scaled = pd.DataFrame(X_scaled, columns=X.columns)\n"
   ]
  },
  {
   "cell_type": "code",
   "execution_count": 19,
   "id": "1e880c9c-bb07-41b0-8632-1348c14446af",
   "metadata": {},
   "outputs": [
    {
     "data": {
      "image/png": "[encoded data removed]",
      "text/plain": [
       "<Figure size 1500x800 with 1 Axes>"
      ]
     },
     "metadata": {},
     "output_type": "display_data"
    }
   ],
   "source": [
    "import matplotlib.pyplot as plt\n",
    "import seaborn as sns\n",
    "\n",
    "plt.figure(figsize=(15,8))\n",
    "sns.boxplot(data=X_scaled)\n",
    "plt.show()"
   ]
  },
  {
   "cell_type": "code",
   "execution_count": 20,
   "id": "0a84f6b7-9a73-4c5f-9083-9e8d6ac7b56b",
   "metadata": {},
   "outputs": [
    {
     "name": "stdout",
     "output_type": "stream",
     "text": [
      "Number of outliers per feature:\n",
      "ambient            38492\n",
      "coolant                0\n",
      "u_d                18050\n",
      "u_q                    0\n",
      "torque            127303\n",
      "i_d                    0\n",
      "i_q               148535\n",
      "pm                  1501\n",
      "stator_yoke            0\n",
      "stator_tooth           0\n",
      "stator_winding         0\n",
      "profile_id             0\n",
      "dtype: int64\n",
      "Shape after removing outliers: (814996, 12)\n"
     ]
    }
   ],
   "source": [
    "import numpy as np\n",
    "\n",
    "Q1 = X_scaled.quantile(0.25)\n",
    "Q3 = X_scaled.quantile(0.75)\n",
    "IQR = Q3 - Q1\n",
    "\n",
    "lower_bound = Q1 - 1.5 * IQR\n",
    "upper_bound = Q3 + 1.5 * IQR\n",
    "outliers = (X_scaled < lower_bound) | (X_scaled > upper_bound)\n",
    "\n",
    "print(\"Number of outliers per feature:\")\n",
    "print(outliers.sum())\n",
    "\n",
    "X_scaled_cleaned = X_scaled[~outliers.any(axis=1)]\n",
    "print(f\"Shape after removing outliers: {X_scaled_cleaned.shape}\")"
   ]
  },
  {
   "cell_type": "code",
   "execution_count": 21,
   "id": "52dca401-d7ec-4f93-ac8c-0abe3736d819",
   "metadata": {},
   "outputs": [],
   "source": [
    "y = data['motor_speed']  "
   ]
  },
  {
   "cell_type": "code",
   "execution_count": 22,
   "id": "b059f48e-90a9-4fa1-931e-cd1d1daf6f65",
   "metadata": {},
   "outputs": [
    {
     "name": "stdout",
     "output_type": "stream",
     "text": [
      "Cleaned dataset saved as 'cleaned_temperature_data.csv'.\n"
     ]
    }
   ],
   "source": [
    "# Saving the cleaned dataset\n",
    "cleaned_data = pd.concat([X_scaled, y], axis=1)  \n",
    "cleaned_data.to_csv(\"cleaned_temperature_data.csv\", index=False)\n",
    "print(\"Cleaned dataset saved as 'cleaned_temperature_data.csv'.\")"
   ]
  },
  {
   "cell_type": "markdown",
   "id": "8daf029b-7fb7-4b4b-9567-b31d7bb06a47",
   "metadata": {},
   "source": [
    "### Step 6 Feature Scaling"
   ]
  },
  {
   "cell_type": "code",
   "execution_count": 23,
   "id": "a64e36c9-1e15-489b-a50f-a1701356fb98",
   "metadata": {},
   "outputs": [
    {
     "name": "stdout",
     "output_type": "stream",
     "text": [
      "Training features shape: (798456, 12)\n",
      "Testing features shape: (199614, 12)\n",
      "Training target shape: (798456,)\n",
      "Testing target shape: (199614,)\n"
     ]
    }
   ],
   "source": [
    "from sklearn.model_selection import train_test_split\n",
    "\n",
    "# Splitting the dataset\n",
    "X_train, X_test, y_train, y_test = train_test_split(\n",
    "    X_scaled, y, test_size=0.2, random_state=42\n",
    ")\n",
    "\n",
    "print(f\"Training features shape: {X_train.shape}\")\n",
    "print(f\"Testing features shape: {X_test.shape}\")\n",
    "print(f\"Training target shape: {y_train.shape}\")\n",
    "print(f\"Testing target shape: {y_test.shape}\")\n"
   ]
  },
  {
   "cell_type": "markdown",
   "id": "7da149fb-ba2f-4d01-acac-b5e4e42a7e74",
   "metadata": {},
   "source": [
    "### Step 7 Model Building"
   ]
  },
  {
   "cell_type": "markdown",
   "id": "a8dae1ba",
   "metadata": {},
   "source": [
    "LINEAR REGRESSSION MODEL "
   ]
  },
  {
   "cell_type": "code",
   "execution_count": 24,
   "id": "b8f0b2fe-5bcb-4cef-a470-d617d2514b91",
   "metadata": {},
   "outputs": [
    {
     "name": "stdout",
     "output_type": "stream",
     "text": [
      "Linear Regression MSE: 0.07193652406709819\n",
      "Linear Regression R²: 0.9282156508602406\n"
     ]
    }
   ],
   "source": [
    "from sklearn.linear_model import LinearRegression\n",
    "from sklearn.metrics import mean_squared_error, r2_score\n",
    "\n",
    "linear_reg = LinearRegression()\n",
    "linear_reg.fit(X_train, y_train)\n",
    "y_pred_linear = linear_reg.predict(X_test)\n",
    "mse_linear = mean_squared_error(y_test, y_pred_linear)\n",
    "r2_linear = r2_score(y_test, y_pred_linear)\n",
    "\n",
    "print(f\"Linear Regression MSE: {mse_linear}\")\n",
    "print(f\"Linear Regression R²: {r2_linear}\")"
   ]
  },
  {
   "cell_type": "markdown",
   "id": "292874fa",
   "metadata": {},
   "source": [
    "DECISION TREE REGRESSOR MODEL "
   ]
  },
  {
   "cell_type": "code",
   "execution_count": 25,
   "id": "7dbab345-25db-42fc-887e-fd0081c9289c",
   "metadata": {},
   "outputs": [
    {
     "name": "stdout",
     "output_type": "stream",
     "text": [
      "Decision Tree MSE: 0.0003049786125004989\n",
      "Decision Tree R²: 0.9996956665409705\n"
     ]
    }
   ],
   "source": [
    "from sklearn.tree import DecisionTreeRegressor\n",
    "\n",
    "dt_regressor = DecisionTreeRegressor(random_state=42)\n",
    "dt_regressor.fit(X_train, y_train)\n",
    "y_pred_dt = dt_regressor.predict(X_test)\n",
    "mse_dt = mean_squared_error(y_test, y_pred_dt)\n",
    "r2_dt = r2_score(y_test, y_pred_dt)\n",
    "\n",
    "print(f\"Decision Tree MSE: {mse_dt}\")\n",
    "print(f\"Decision Tree R²: {r2_dt}\")"
   ]
  },
  {
   "cell_type": "markdown",
   "id": "f5d6fc7f",
   "metadata": {},
   "source": [
    "KNEIGHBORS REGRESSOR MODEL "
   ]
  },
  {
   "cell_type": "code",
   "execution_count": 26,
   "id": "840da7b5-9f59-4c8f-ad3c-cbe798f9ec8e",
   "metadata": {},
   "outputs": [
    {
     "name": "stdout",
     "output_type": "stream",
     "text": [
      "KNN MSE: 0.0008734397552092168\n",
      "KNN R²: 0.9991284079241582\n"
     ]
    }
   ],
   "source": [
    "from sklearn.neighbors import KNeighborsRegressor\n",
    "\n",
    "knn_regressor = KNeighborsRegressor(n_neighbors=5)\n",
    "knn_regressor.fit(X_train, y_train)\n",
    "y_pred_knn = knn_regressor.predict(X_test)\n",
    "mse_knn = mean_squared_error(y_test, y_pred_knn)\n",
    "r2_knn = r2_score(y_test, y_pred_knn)\n",
    "\n",
    "print(f\"KNN MSE: {mse_knn}\")\n",
    "print(f\"KNN R²: {r2_knn}\")"
   ]
  },
  {
   "cell_type": "markdown",
   "id": "ae5535fc",
   "metadata": {},
   "source": [
    "MODEL COMPARISIONS ACCORDING TO THE :\n",
    "MSE ,\n",
    "R2 \n",
    "TO CHECK THE ACCURACY OF ALL THE REGRESSION MODELS "
   ]
  },
  {
   "cell_type": "code",
   "execution_count": 27,
   "id": "d6c7bb2d-75e0-4412-854c-f1c7687ac8bb",
   "metadata": {},
   "outputs": [
    {
     "name": "stdout",
     "output_type": "stream",
     "text": [
      "\n",
      "Model Comparison:\n",
      "Linear Regression R²: 0.9282156508602406, MSE: 0.07193652406709819\n",
      "Decision Tree R²: 0.9996956665409705, MSE: 0.0003049786125004989\n",
      "KNN R²: 0.9991284079241582, MSE: 0.0008734397552092168\n"
     ]
    }
   ],
   "source": [
    "print(\"\\nModel Comparison:\")\n",
    "print(f\"Linear Regression R²: {r2_linear}, MSE: {mse_linear}\")\n",
    "print(f\"Decision Tree R²: {r2_dt}, MSE: {mse_dt}\")\n",
    "print(f\"KNN R²: {r2_knn}, MSE: {mse_knn}\")"
   ]
  },
  {
   "cell_type": "markdown",
   "id": "08812e9d",
   "metadata": {},
   "source": [
    "KNN AND THE DECISION TREE GIVES THE HIGHEST ACCURACY , HENCE THIS MODELS ARE CONSIDERED FOR THE DEPLOYMENT AND THE FINAL PRESENTATION ..\n"
   ]
  }
 ],
 "metadata": {
  "kernelspec": {
   "display_name": "Python 3 (ipykernel)",
   "language": "python",
   "name": "python3"
  },
  "language_info": {
   "codemirror_mode": {
    "name": "ipython",
    "version": 3
   },
   "file_extension": ".py",
   "mimetype": "text/x-python",
   "name": "python",
   "nbconvert_exporter": "python",
   "pygments_lexer": "ipython3",
   "version": "3.11.7"
  }
 },
 "nbformat": 4,
 "nbformat_minor": 5
}
